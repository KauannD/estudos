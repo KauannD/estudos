{
  "nbformat": 4,
  "nbformat_minor": 0,
  "metadata": {
    "colab": {
      "provenance": []
    },
    "kernelspec": {
      "name": "python3",
      "display_name": "Python 3"
    },
    "language_info": {
      "name": "python"
    }
  },
  "cells": [
    {
      "cell_type": "markdown",
      "source": [
        "## Sumarização usando algoritmo de Luhn"
      ],
      "metadata": {
        "id": "hs-BRxQobO4M"
      }
    },
    {
      "cell_type": "markdown",
      "source": [
        " Algoritmo de Luhn para sumarização extrativa automática. Ele é uma técnica simples, mas poderosa, para identificar frases importantes com base na frequência das palavras. Apesar de suas limitações, o algoritmo serve como uma base sólida para entender métodos mais avançados."
      ],
      "metadata": {
        "id": "s-s592hicabY"
      }
    },
    {
      "cell_type": "code",
      "execution_count": 4,
      "metadata": {
        "colab": {
          "base_uri": "https://localhost:8080/"
        },
        "id": "LB_40Pr0aVdM",
        "outputId": "f7155115-6a3a-41a1-8ba9-7b21431bcf77"
      },
      "outputs": [
        {
          "output_type": "stream",
          "name": "stderr",
          "text": [
            "[nltk_data] Downloading package punkt_tab to /root/nltk_data...\n",
            "[nltk_data]   Unzipping tokenizers/punkt_tab.zip.\n",
            "[nltk_data] Downloading package stopwords to /root/nltk_data...\n",
            "[nltk_data]   Package stopwords is already up-to-date!\n"
          ]
        },
        {
          "output_type": "execute_result",
          "data": {
            "text/plain": [
              "True"
            ]
          },
          "metadata": {},
          "execution_count": 4
        }
      ],
      "source": [
        "import nltk\n",
        "from nltk.corpus import stopwords\n",
        "from nltk.tokenize import sent_tokenize, word_tokenize\n",
        "from collections import Counter\n",
        "import string\n",
        "\n",
        "nltk.download('punkt_tab')\n",
        "nltk.download('stopwords')"
      ]
    },
    {
      "cell_type": "markdown",
      "source": [
        "###Pré processamento"
      ],
      "metadata": {
        "id": "g4xXGx9dbKp4"
      }
    },
    {
      "cell_type": "code",
      "source": [
        "texto = \"\"\"A inteligência artificial (IA) está transformando diversos setores da sociedade, desde a saúde até o entretenimento. Na área médica, sistemas de IA auxiliam no diagnóstico de doenças e na personalização de tratamentos. No setor financeiro, algoritmos de aprendizado de máquina detectam fraudes e otimizam investimentos. Além disso, assistentes virtuais, como Alexa e Siri, utilizam IA para entender comandos humanos e fornecer respostas precisas. Apesar dos avanços, a IA também levanta preocupações éticas, como a privacidade de dados e o impacto no mercado de trabalho. Para garantir um futuro sustentável, é essencial que governos e empresas adotem regulamentações claras e responsáveis no uso da IA.\"\"\"\n",
        "\n",
        "# tokenização\n",
        "frases = sent_tokenize(texto)\n",
        "\n",
        "# remoção de stopwords/pontuação\n",
        "stopwords_pt = set(stopwords.words('portuguese'))\n",
        "palavras_limpo = [word for word in word_tokenize(texto.lower()) if word not in stopwords_pt and word not in string.punctuation]\n",
        "\n",
        "print(\"Frases tokenizadas:\")\n",
        "for i, frase in enumerate(frases, 1):\n",
        "    print(f\"Frase {i}: {frase}\")\n",
        "\n",
        "print(\"\\nPalavras limpas:\")\n",
        "print(palavras_limpo)"
      ],
      "metadata": {
        "colab": {
          "base_uri": "https://localhost:8080/"
        },
        "id": "CuJHtR5kaWDa",
        "outputId": "e02680ba-7a30-407b-de65-aff4720ab8b9"
      },
      "execution_count": 5,
      "outputs": [
        {
          "output_type": "stream",
          "name": "stdout",
          "text": [
            "Frases tokenizadas:\n",
            "Frase 1: A inteligência artificial (IA) está transformando diversos setores da sociedade, desde a saúde até o entretenimento.\n",
            "Frase 2: Na área médica, sistemas de IA auxiliam no diagnóstico de doenças e na personalização de tratamentos.\n",
            "Frase 3: No setor financeiro, algoritmos de aprendizado de máquina detectam fraudes e otimizam investimentos.\n",
            "Frase 4: Além disso, assistentes virtuais, como Alexa e Siri, utilizam IA para entender comandos humanos e fornecer respostas precisas.\n",
            "Frase 5: Apesar dos avanços, a IA também levanta preocupações éticas, como a privacidade de dados e o impacto no mercado de trabalho.\n",
            "Frase 6: Para garantir um futuro sustentável, é essencial que governos e empresas adotem regulamentações claras e responsáveis no uso da IA.\n",
            "\n",
            "Palavras limpas:\n",
            "['inteligência', 'artificial', 'ia', 'transformando', 'diversos', 'setores', 'sociedade', 'desde', 'saúde', 'entretenimento', 'área', 'médica', 'sistemas', 'ia', 'auxiliam', 'diagnóstico', 'doenças', 'personalização', 'tratamentos', 'setor', 'financeiro', 'algoritmos', 'aprendizado', 'máquina', 'detectam', 'fraudes', 'otimizam', 'investimentos', 'além', 'disso', 'assistentes', 'virtuais', 'alexa', 'siri', 'utilizam', 'ia', 'entender', 'comandos', 'humanos', 'fornecer', 'respostas', 'precisas', 'apesar', 'avanços', 'ia', 'levanta', 'preocupações', 'éticas', 'privacidade', 'dados', 'impacto', 'mercado', 'trabalho', 'garantir', 'futuro', 'sustentável', 'essencial', 'governos', 'empresas', 'adotem', 'regulamentações', 'claras', 'responsáveis', 'uso', 'ia']\n"
          ]
        }
      ]
    },
    {
      "cell_type": "markdown",
      "source": [
        "###Frênquencia e Geração do resumo"
      ],
      "metadata": {
        "id": "nHyywPYpbwIY"
      }
    },
    {
      "cell_type": "code",
      "source": [
        "# frequência das palavras\n",
        "frequencia_palavras = Counter(palavras_limpo)\n",
        "\n",
        "# normalizar as frequências\n",
        "max_frequencia = max(frequencia_palavras.values())\n",
        "frequencia_normalizada = {palavra: freq / max_frequencia for palavra, freq in frequencia_palavras.items()}\n",
        "\n",
        "print(\"\\nFrequência Normalizada das Palavras:\")\n",
        "for palavra, freq in frequencia_normalizada.items():\n",
        "    print(f\"{palavra}: {freq:.4f}\")"
      ],
      "metadata": {
        "colab": {
          "base_uri": "https://localhost:8080/"
        },
        "id": "h25rbI3FbaB9",
        "outputId": "e1a37947-a2e3-43ef-fc42-c5cfcb04995f"
      },
      "execution_count": 6,
      "outputs": [
        {
          "output_type": "stream",
          "name": "stdout",
          "text": [
            "\n",
            "Frequência Normalizada das Palavras:\n",
            "inteligência: 0.2000\n",
            "artificial: 0.2000\n",
            "ia: 1.0000\n",
            "transformando: 0.2000\n",
            "diversos: 0.2000\n",
            "setores: 0.2000\n",
            "sociedade: 0.2000\n",
            "desde: 0.2000\n",
            "saúde: 0.2000\n",
            "entretenimento: 0.2000\n",
            "área: 0.2000\n",
            "médica: 0.2000\n",
            "sistemas: 0.2000\n",
            "auxiliam: 0.2000\n",
            "diagnóstico: 0.2000\n",
            "doenças: 0.2000\n",
            "personalização: 0.2000\n",
            "tratamentos: 0.2000\n",
            "setor: 0.2000\n",
            "financeiro: 0.2000\n",
            "algoritmos: 0.2000\n",
            "aprendizado: 0.2000\n",
            "máquina: 0.2000\n",
            "detectam: 0.2000\n",
            "fraudes: 0.2000\n",
            "otimizam: 0.2000\n",
            "investimentos: 0.2000\n",
            "além: 0.2000\n",
            "disso: 0.2000\n",
            "assistentes: 0.2000\n",
            "virtuais: 0.2000\n",
            "alexa: 0.2000\n",
            "siri: 0.2000\n",
            "utilizam: 0.2000\n",
            "entender: 0.2000\n",
            "comandos: 0.2000\n",
            "humanos: 0.2000\n",
            "fornecer: 0.2000\n",
            "respostas: 0.2000\n",
            "precisas: 0.2000\n",
            "apesar: 0.2000\n",
            "avanços: 0.2000\n",
            "levanta: 0.2000\n",
            "preocupações: 0.2000\n",
            "éticas: 0.2000\n",
            "privacidade: 0.2000\n",
            "dados: 0.2000\n",
            "impacto: 0.2000\n",
            "mercado: 0.2000\n",
            "trabalho: 0.2000\n",
            "garantir: 0.2000\n",
            "futuro: 0.2000\n",
            "sustentável: 0.2000\n",
            "essencial: 0.2000\n",
            "governos: 0.2000\n",
            "empresas: 0.2000\n",
            "adotem: 0.2000\n",
            "regulamentações: 0.2000\n",
            "claras: 0.2000\n",
            "responsáveis: 0.2000\n",
            "uso: 0.2000\n"
          ]
        }
      ]
    },
    {
      "cell_type": "code",
      "source": [
        "# função para calcular a pontuação de uma frase\n",
        "def pontuar_frase(frase, frequencia_normalizada):\n",
        "    palavras = word_tokenize(frase.lower())\n",
        "    pontuacao = sum(frequencia_normalizada.get(palavra, 0) for palavra in palavras)\n",
        "    return pontuacao / len(palavras) if palavras else 0\n",
        "\n",
        "pontuacoes_frases = [(frase, pontuar_frase(frase, frequencia_normalizada)) for frase in frases]\n",
        "\n",
        "# ordenar as frases por pontuação\n",
        "pontuacoes_frases.sort(key=lambda x: x[1], reverse=True)\n",
        "\n",
        "print(\"\\nPontuações das Frases:\")\n",
        "for frase, pontuacao in pontuacoes_frases:\n",
        "    print(f\"Pontuação: {pontuacao:.4f} - Frase: {frase}\")"
      ],
      "metadata": {
        "colab": {
          "base_uri": "https://localhost:8080/"
        },
        "id": "7QWVxRQmbi_y",
        "outputId": "8c02067d-eca9-423c-be39-f354d6b7f6bb"
      },
      "execution_count": 7,
      "outputs": [
        {
          "output_type": "stream",
          "name": "stdout",
          "text": [
            "\n",
            "Pontuações das Frases:\n",
            "Pontuação: 0.1636 - Frase: Além disso, assistentes virtuais, como Alexa e Siri, utilizam IA para entender comandos humanos e fornecer respostas precisas.\n",
            "Pontuação: 0.1455 - Frase: Para garantir um futuro sustentável, é essencial que governos e empresas adotem regulamentações claras e responsáveis no uso da IA.\n",
            "Pontuação: 0.1444 - Frase: Na área médica, sistemas de IA auxiliam no diagnóstico de doenças e na personalização de tratamentos.\n",
            "Pontuação: 0.1400 - Frase: A inteligência artificial (IA) está transformando diversos setores da sociedade, desde a saúde até o entretenimento.\n",
            "Pontuação: 0.1250 - Frase: Apesar dos avanços, a IA também levanta preocupações éticas, como a privacidade de dados e o impacto no mercado de trabalho.\n",
            "Pontuação: 0.1200 - Frase: No setor financeiro, algoritmos de aprendizado de máquina detectam fraudes e otimizam investimentos.\n"
          ]
        }
      ]
    },
    {
      "cell_type": "code",
      "source": [
        "top_n = 1\n",
        "resumo = \" \".join([frase for frase, _ in pontuacoes_frases[:top_n]])\n",
        "\n",
        "print(\"\\nResumo Gerado:\")\n",
        "print(resumo)"
      ],
      "metadata": {
        "colab": {
          "base_uri": "https://localhost:8080/"
        },
        "id": "hkQtjYEKbs6S",
        "outputId": "5568cbc8-9563-42a0-b5fa-9d50b1261017"
      },
      "execution_count": 9,
      "outputs": [
        {
          "output_type": "stream",
          "name": "stdout",
          "text": [
            "\n",
            "Resumo Gerado:\n",
            "Além disso, assistentes virtuais, como Alexa e Siri, utilizam IA para entender comandos humanos e fornecer respostas precisas.\n"
          ]
        }
      ]
    },
    {
      "cell_type": "markdown",
      "source": [
        "###Visualização dos resultados\n"
      ],
      "metadata": {
        "id": "Fsz1NkcNcICD"
      }
    },
    {
      "cell_type": "code",
      "source": [
        "import matplotlib.pyplot as plt\n",
        "\n",
        "frases_rotuladas = [frase[:30] + \"...\" for frase, _ in pontuacoes_frases]\n",
        "pontuacoes = [pontuacao for _, pontuacao in pontuacoes_frases]\n",
        "\n",
        "# plotar gráfico de barras\n",
        "plt.figure(figsize=(10, 6))\n",
        "plt.barh(frases_rotuladas, pontuacoes, color='skyblue')\n",
        "plt.title(\"Pontuação das Frases\")\n",
        "plt.xlabel(\"Pontuação\")\n",
        "plt.ylabel(\"Frases\")\n",
        "plt.gca().invert_yaxis()\n",
        "plt.tight_layout()\n",
        "plt.show()"
      ],
      "metadata": {
        "colab": {
          "base_uri": "https://localhost:8080/",
          "height": 607
        },
        "id": "-0WFT3VecMX_",
        "outputId": "44b092ff-fc50-4fc3-b560-fe130d03c0c0"
      },
      "execution_count": 10,
      "outputs": [
        {
          "output_type": "display_data",
          "data": {
            "text/plain": [
              "<Figure size 1000x600 with 1 Axes>"
            ],
            "image/png": "[encoded data removed]"
          },
          "metadata": {}
        }
      ]
    }
  ]
}